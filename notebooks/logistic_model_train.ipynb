{
 "cells": [
  {
   "cell_type": "code",
   "execution_count": 1,
   "id": "initial_id",
   "metadata": {},
   "outputs": [],
   "source": [
    "# import modules from other folders\n",
    "# source: https://stackoverflow.com/questions/49264194/import-py-file-in-another-directory-in-jupyter-notebook\n",
    "# author: adhg (accessed 15 June 2025)\n",
    "import os\n",
    "import sys\n",
    "\n",
    "# Build an absolute path from this notebook's parent directory\n",
    "module_path = os.path.abspath(os.path.join('..', 'src/python'))\n",
    "# Add to sys.path if not already present\n",
    "if module_path not in sys.path:\n",
    "    sys.path.append(module_path)\n",
    "\n",
    "from train_logistic_model import *\n",
    "from lexicon import create_lexicon\n",
    "import config as cfg"
   ]
  },
  {
   "cell_type": "code",
   "execution_count": 2,
   "id": "e6965b86-eb4e-48d7-bb72-cf2827693265",
   "metadata": {},
   "outputs": [],
   "source": [
    "# computationally expensive\n",
    "# prefer loading dataset when possibile\n",
    "\n",
    "try:\n",
    "    df_train = pd.read_csv(cfg.DATAFRAME_SAVE_PATH / \"df_train.csv\")\n",
    "    df_val = pd.read_csv(cfg.DATAFRAME_SAVE_PATH / \"df_val.csv\")\n",
    "    df_test = pd.read_csv(cfg.DATAFRAME_SAVE_PATH / \"df_test.csv\")\n",
    "except FileNotFoundError:\n",
    "    df_train, df_val, df_test = create_data_splits_with_kb_features(merge_train_test())"
   ]
  },
  {
   "cell_type": "markdown",
   "id": "82a5eb2a-e7ee-4b6f-a8a8-6b24c0649eac",
   "metadata": {},
   "source": [
    "#### Train baseline model"
   ]
  },
  {
   "cell_type": "code",
   "execution_count": null,
   "id": "650338fc-be19-41de-ac33-37361a3abf4b",
   "metadata": {},
   "outputs": [],
   "source": [
    "# generate lexicon on train data\n",
    "create_lexicon(df_train)"
   ]
  },
  {
   "cell_type": "code",
   "execution_count": 3,
   "id": "7c194467-f53b-4d1f-be78-8ed4923c809c",
   "metadata": {},
   "outputs": [],
   "source": [
    "X_train, y_train = split_feature_target(df_train, \"label\")\n",
    "X_val, y_val = split_feature_target(df_val, \"label\")"
   ]
  },
  {
   "cell_type": "code",
   "execution_count": null,
   "id": "70990f00-cf6d-44cd-b9d5-105b99a183ff",
   "metadata": {},
   "outputs": [],
   "source": [
    "pipeline = create_pipeline()\n",
    "pipeline.fit(X_train, y_train)"
   ]
  },
  {
   "cell_type": "markdown",
   "id": "78d27b1b-43db-4e24-ad0d-8a39c86e2646",
   "metadata": {},
   "source": [
    "#### Valuate baseline model"
   ]
  },
  {
   "cell_type": "code",
   "execution_count": null,
   "id": "123fee2e-13b3-4614-aef5-8668a3b96d9f",
   "metadata": {},
   "outputs": [],
   "source": [
    "y_val_pred = pipeline.predict(X_val)\n",
    "y_val_proba = pipeline.predict_proba(X_val)[:,1]\n",
    "\n",
    "from sklearn.metrics import accuracy_score, roc_auc_score, classification_report\n",
    "print(\"Acc val:\", accuracy_score(y_val, y_val_pred))\n",
    "print(\"AUC val:\", roc_auc_score(y_val, y_val_proba))\n",
    "print(classification_report(y_val, y_val_pred))"
   ]
  }
 ],
 "metadata": {
  "kernelspec": {
   "display_name": "Python 3 (ipykernel)",
   "language": "python",
   "name": "python3"
  },
  "language_info": {
   "codemirror_mode": {
    "name": "ipython",
    "version": 3
   },
   "file_extension": ".py",
   "mimetype": "text/x-python",
   "name": "python",
   "nbconvert_exporter": "python",
   "pygments_lexer": "ipython3",
   "version": "3.12.1"
  }
 },
 "nbformat": 4,
 "nbformat_minor": 5
}
